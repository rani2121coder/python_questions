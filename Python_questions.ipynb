{
 "cells": [
  {
   "cell_type": "code",
   "execution_count": 1,
   "id": "110d3094-898f-4d2c-8167-ffeecbb9b64f",
   "metadata": {},
   "outputs": [
    {
     "name": "stdout",
     "output_type": "stream",
     "text": [
      "The sum of numbers from 1 to 50 is: 1275\n"
     ]
    }
   ],
   "source": [
    "# Question no 1\n",
    "\n",
    "numbers = [i for i in range(1, 51)]\n",
    "\n",
    "total_sum = sum(numbers)\n",
    "\n",
    "print(\"The sum of numbers from 1 to 50 is:\", total_sum)\n"
   ]
  },
  {
   "cell_type": "code",
   "execution_count": 3,
   "id": "01a4ccbc-def7-4b9e-a4b3-61ba1d908b1a",
   "metadata": {},
   "outputs": [
    {
     "name": "stdout",
     "output_type": "stream",
     "text": [
      "Maximum number in the list: 99\n"
     ]
    }
   ],
   "source": [
    "# Question no 2\n",
    "\n",
    "numbers = [87, 43, 76, 1, 99, 23, 8]\n",
    "max_num = max(numbers)\n",
    "print(\"Maximum number in the list:\", max_num)\n"
   ]
  },
  {
   "cell_type": "code",
   "execution_count": 5,
   "id": "6d77df5f-53a7-457e-9206-a4c1d855db4a",
   "metadata": {},
   "outputs": [
    {
     "name": "stdout",
     "output_type": "stream",
     "text": [
      "g=2, o=2, l=1, e=1\n"
     ]
    }
   ],
   "source": [
    "# question no 3\n",
    "\n",
    "from collections import Counter\n",
    "\n",
    "s1 = \"google\"\n",
    "\n",
    "char_count = Counter(s1)\n",
    "\n",
    "output = \", \".join(f\"{char}={count}\" for char, count in char_count.items())\n",
    "\n",
    "print(output)\n"
   ]
  },
  {
   "cell_type": "code",
   "execution_count": 7,
   "id": "8eb5c98f-a37f-4f87-8634-bfe6eb056dfc",
   "metadata": {},
   "outputs": [
    {
     "name": "stdout",
     "output_type": "stream",
     "text": [
      "[7, 14, 21, 28, 35, 42, 49, 56, 63, 70, 77, 84, 91, 98, 105, 112, 119, 126, 133, 140, 147, 154, 161, 168, 175, 182, 189, 196, 203, 210, 217, 224, 231, 238, 245, 252, 259, 266, 273, 280, 287, 294, 301, 308, 315, 322, 329, 336, 343, 350, 357, 364, 371, 378, 385, 392, 399, 406, 413, 420, 427, 434, 441, 448, 455, 462, 469, 476, 483, 490, 497, 504, 511, 518, 525, 532, 539, 546, 553, 560, 567, 574, 581, 588, 595, 602, 609, 616, 623, 630, 637, 644, 651, 658, 665, 672, 679, 686, 693, 700, 707, 714, 721, 728, 735, 742, 749, 756, 763, 770, 777, 784, 791, 798, 805, 812, 819, 826, 833, 840, 847, 854, 861, 868, 875, 882, 889, 896, 903, 910, 917, 924, 931, 938, 945, 952, 959, 966, 973, 980, 987, 994]\n"
     ]
    }
   ],
   "source": [
    "# question no 4\n",
    "\n",
    "divisible_by_seven = [num for num in range(1, 1001) if num % 7 == 0]\n",
    "\n",
    "print(divisible_by_seven)\n"
   ]
  },
  {
   "cell_type": "code",
   "execution_count": 9,
   "id": "89cf35cc-9dd7-4894-8c99-961ef72ac5cf",
   "metadata": {},
   "outputs": [
    {
     "name": "stdout",
     "output_type": "stream",
     "text": [
      "['odd', 'even', 'even', 'even', 'odd', 'odd', 'even']\n"
     ]
    }
   ],
   "source": [
    "# Question no 5\n",
    "input_list = [75, 8, 94, 2, 23, 29, 100]\n",
    "output_list = ['odd' if num % 2 != 0 else 'even' for num in input_list]\n",
    "print(output_list)"
   ]
  },
  {
   "cell_type": "code",
   "execution_count": 11,
   "id": "be60abf6-352f-40a1-b0dc-c046618ab5a0",
   "metadata": {},
   "outputs": [
    {
     "name": "stdout",
     "output_type": "stream",
     "text": [
      "[1, 10]\n"
     ]
    }
   ],
   "source": [
    "# question 6\n",
    "def extract_numbers(input_string):\n",
    "    \n",
    "    numbers = []\n",
    "    for word in input_string.split():\n",
    "        if word.isdigit():  \n",
    "            numbers.append(int(word))  \n",
    "    return numbers\n",
    "\n",
    "input_string = 'hello 1 hi 9. How are 10'\n",
    "output = extract_numbers(input_string)\n",
    "print(output)\n"
   ]
  },
  {
   "cell_type": "code",
   "execution_count": 17,
   "id": "a09b00e6-576e-4345-a242-6015d745b7cc",
   "metadata": {},
   "outputs": [
    {
     "name": "stdin",
     "output_type": "stream",
     "text": [
      "Enter an email address:  abc@gmail.com\n"
     ]
    },
    {
     "name": "stdout",
     "output_type": "stream",
     "text": [
      "Correct\n"
     ]
    }
   ],
   "source": [
    "# Question no 7\n",
    "def check_email(email):\n",
    "    if \"@\" in email and \".\" in email and email.index(\"@\") < email.index(\".\"):\n",
    "        return \"Correct\"\n",
    "    else:\n",
    "        return \"Incorrect\"\n",
    "\n",
    "email = input(\"Enter an email address: \")\n",
    "\n",
    "print(check_email(email))\n"
   ]
  },
  {
   "cell_type": "code",
   "execution_count": 15,
   "id": "2fdb356a-4e06-4ae9-823a-b15b782972b5",
   "metadata": {},
   "outputs": [
    {
     "name": "stdout",
     "output_type": "stream",
     "text": [
      "Helloeveryonenicetomeetyou\n"
     ]
    }
   ],
   "source": [
    "#Question no 8\n",
    "string_with_whitespace = \"  Hello  everyone nice to meet you \"\n",
    "result = string_with_whitespace.replace(\" \", \"\")\n",
    "print(result)\n"
   ]
  },
  {
   "cell_type": "code",
   "execution_count": 19,
   "id": "10b71d5e-b598-47ce-9fa2-f9b41db6cf95",
   "metadata": {},
   "outputs": [
    {
     "name": "stdout",
     "output_type": "stream",
     "text": [
      "Sum of numbers from 1 to 50: 1275\n"
     ]
    }
   ],
   "source": [
    "# Question no 9\n",
    "numbers = [i for i in range(1, 51)]\n",
    "sum_of_numbers = sum(numbers)\n",
    "print(\"Sum of numbers from 1 to 50:\", sum_of_numbers)\n",
    "\n"
   ]
  },
  {
   "cell_type": "code",
   "execution_count": 21,
   "id": "610147df-4eb8-4b40-85d0-6ae8db32745a",
   "metadata": {},
   "outputs": [
    {
     "name": "stdin",
     "output_type": "stream",
     "text": [
      "Enter a string:  1234\n"
     ]
    },
    {
     "name": "stdout",
     "output_type": "stream",
     "text": [
      "The string is alphanumeric.\n"
     ]
    }
   ],
   "source": [
    "# Question 10\n",
    "string = input(\"Enter a string: \")\n",
    "\n",
    "\n",
    "if string.isalnum():\n",
    "    print(\"The string is alphanumeric.\")\n",
    "else:\n",
    "    print(\"The string is not alphanumeric.\")\n"
   ]
  },
  {
   "cell_type": "code",
   "execution_count": null,
   "id": "81b95f2e-5bdd-4612-ba04-bbd0cf97fa28",
   "metadata": {},
   "outputs": [],
   "source": []
  }
 ],
 "metadata": {
  "kernelspec": {
   "display_name": "Python 3 (ipykernel)",
   "language": "python",
   "name": "python3"
  },
  "language_info": {
   "codemirror_mode": {
    "name": "ipython",
    "version": 3
   },
   "file_extension": ".py",
   "mimetype": "text/x-python",
   "name": "python",
   "nbconvert_exporter": "python",
   "pygments_lexer": "ipython3",
   "version": "3.12.4"
  }
 },
 "nbformat": 4,
 "nbformat_minor": 5
}
